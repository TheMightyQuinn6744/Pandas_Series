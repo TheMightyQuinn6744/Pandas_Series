{
 "cells": [
  {
   "cell_type": "code",
   "execution_count": 1,
   "id": "e392444c",
   "metadata": {},
   "outputs": [],
   "source": [
    "import pandas as pd"
   ]
  },
  {
   "cell_type": "code",
   "execution_count": 5,
   "id": "c5766c89",
   "metadata": {},
   "outputs": [
    {
     "data": {
      "text/plain": [
       "Salmon    orange\n",
       "Tuna         Red\n",
       "Eel        brown\n",
       "dtype: object"
      ]
     },
     "execution_count": 5,
     "metadata": {},
     "output_type": "execute_result"
    }
   ],
   "source": [
    "sushi = {\n",
    "    \"Salmon\": \"orange\",\n",
    "    \"Tuna\":\"Red\",\n",
    "    \"Eel\":\"brown\",\n",
    "}\n",
    "\n",
    "pd.Series(sushi)"
   ]
  },
  {
   "cell_type": "code",
   "execution_count": 6,
   "id": "7176d3d1",
   "metadata": {},
   "outputs": [
    {
     "data": {
      "text/plain": [
       "Baton Rouge      Louisiana\n",
       "Jacksonville       Florida\n",
       "Fresno          California\n",
       "dtype: object"
      ]
     },
     "execution_count": 6,
     "metadata": {},
     "output_type": "execute_result"
    }
   ],
   "source": [
    "cities = {\n",
    "    \"Baton Rouge\": \"Louisiana\",\n",
    "    \"Jacksonville\": \"Florida\",\n",
    "    \"Fresno\": \"California\"\n",
    "}\n",
    "\n",
    "pd.Series(cities)"
   ]
  },
  {
   "cell_type": "code",
   "execution_count": 7,
   "id": "352c8049",
   "metadata": {},
   "outputs": [
    {
     "data": {
      "text/plain": [
       "0    United States\n",
       "1           France\n",
       "2          Germany\n",
       "3            Italy\n",
       "dtype: object"
      ]
     },
     "execution_count": 7,
     "metadata": {},
     "output_type": "execute_result"
    }
   ],
   "source": [
    "#Create a list with four countries\n",
    "countries = [\"United States\",\"France\",\"Germany\",\"Italy\"]\n",
    "pd.Series(countries)"
   ]
  },
  {
   "cell_type": "code",
   "execution_count": 8,
   "id": "7810a085",
   "metadata": {},
   "outputs": [
    {
     "data": {
      "text/plain": [
       "0      red\n",
       "1    green\n",
       "2     blue\n",
       "dtype: object"
      ]
     },
     "execution_count": 8,
     "metadata": {},
     "output_type": "execute_result"
    }
   ],
   "source": [
    "#Create a list with three colors\n",
    "colors = [\"red\",\"green\",\"blue\"]\n",
    "pd.Series(colors)"
   ]
  },
  {
   "cell_type": "code",
   "execution_count": 9,
   "id": "77cdf81a",
   "metadata": {},
   "outputs": [
    {
     "data": {
      "text/plain": [
       "Flour     True\n",
       "Sugar     True\n",
       "Salt     False\n",
       "dtype: bool"
      ]
     },
     "execution_count": 9,
     "metadata": {},
     "output_type": "execute_result"
    }
   ],
   "source": [
    "#Create a dictionary with recipe ingredients with boolean values\n",
    "recipe = {\n",
    "    \"Flour\": True,\n",
    "    \"Sugar\": True,\n",
    "    \"Salt\": False\n",
    "}\n",
    "pd.Series(recipe)"
   ]
  },
  {
   "cell_type": "code",
   "execution_count": null,
   "id": "768af068",
   "metadata": {},
   "outputs": [],
   "source": []
  }
 ],
 "metadata": {
  "kernelspec": {
   "display_name": "Python 3 (ipykernel)",
   "language": "python",
   "name": "python3"
  },
  "language_info": {
   "codemirror_mode": {
    "name": "ipython",
    "version": 3
   },
   "file_extension": ".py",
   "mimetype": "text/x-python",
   "name": "python",
   "nbconvert_exporter": "python",
   "pygments_lexer": "ipython3",
   "version": "3.10.4"
  }
 },
 "nbformat": 4,
 "nbformat_minor": 5
}
