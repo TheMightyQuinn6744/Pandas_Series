{
 "cells": [
  {
   "cell_type": "code",
   "execution_count": 1,
   "id": "5e756c62",
   "metadata": {},
   "outputs": [],
   "source": [
    "#import pandas under alias pd\n",
    "import pandas as pd"
   ]
  },
  {
   "cell_type": "code",
   "execution_count": 4,
   "id": "0f8e28d6",
   "metadata": {},
   "outputs": [
    {
     "name": "stdout",
     "output_type": "stream",
     "text": [
      "0     Bulbasaur\n",
      "1       Ivysaur\n",
      "2      Venusaur\n",
      "3    Charmander\n",
      "4    Charmeleon\n",
      "Name: Pokemon, dtype: object\n"
     ]
    }
   ],
   "source": [
    "#create data series for column data selected from pokemon/google csv's\n",
    "\n",
    "pokemon =pd.read_csv(\"pokemon.csv\", usecols = [\"Pokemon\"]).squeeze(\"columns\")\n",
    "print(pokemon.head())\n",
    "google =pd.read_csv(\"google_stock_price.csv\", usecols = [\"Stock Price\"]).squeeze(\"columns\")\n",
    "# print(google)"
   ]
  },
  {
   "cell_type": "code",
   "execution_count": 5,
   "id": "0e68da54",
   "metadata": {},
   "outputs": [
    {
     "data": {
      "text/plain": [
       "True"
      ]
     },
     "execution_count": 5,
     "metadata": {},
     "output_type": "execute_result"
    }
   ],
   "source": [
    "#by default the IN keyword searches for inclusion by index\n",
    "2 in [1,2,3]"
   ]
  },
  {
   "cell_type": "code",
   "execution_count": 6,
   "id": "4b282b16",
   "metadata": {},
   "outputs": [
    {
     "data": {
      "text/plain": [
       "True"
      ]
     },
     "execution_count": 6,
     "metadata": {},
     "output_type": "execute_result"
    }
   ],
   "source": [
    "#by default the IN keyword searches for inclusion by index\n",
    "100 in pokemon"
   ]
  },
  {
   "cell_type": "code",
   "execution_count": 7,
   "id": "f13bb5f7",
   "metadata": {},
   "outputs": [
    {
     "data": {
      "text/plain": [
       "False"
      ]
     },
     "execution_count": 7,
     "metadata": {},
     "output_type": "execute_result"
    }
   ],
   "source": [
    "#by default the IN keyword searches for inclusion by index\n",
    "\"Bulbasaur\" in pokemon"
   ]
  },
  {
   "cell_type": "code",
   "execution_count": 10,
   "id": "021e9351",
   "metadata": {},
   "outputs": [
    {
     "data": {
      "text/plain": [
       "True"
      ]
     },
     "execution_count": 10,
     "metadata": {},
     "output_type": "execute_result"
    }
   ],
   "source": [
    "#attach the values attribute to Series to search series values for inclusion over index values for inclusion\n",
    "\"Bulbasaur\" in pokemon.values\n",
    "\"Pikachu\" in pokemon.values"
   ]
  },
  {
   "cell_type": "code",
   "execution_count": 18,
   "id": "cc19a7ab",
   "metadata": {},
   "outputs": [
    {
     "name": "stdout",
     "output_type": "stream",
     "text": [
      "Coffee\n",
      "Americano                       202\n",
      "Black Iced Tea                  184\n",
      "Cappuccino                      250\n",
      "Caramel Macchiato               212\n",
      "Chai                             93\n",
      "Cold Brew                        45\n",
      "Cortado                          55\n",
      "Drip                            193\n",
      "Elderberry Hibiscus Iced Tea    125\n",
      "Espresso                         94\n",
      "Espresso over Ice                 0\n",
      "Fall Oat Boy                    145\n",
      "Flat White                       71\n",
      "Flower Power                     92\n",
      "Golden Mylk                     128\n",
      "Green Iced Tea                   88\n",
      "Hall & Oats                     250\n",
      "Honey Badger                    216\n",
      "Hot Chocolate                   235\n",
      "Hot Tea                          93\n",
      "Iced Americano                    2\n",
      "Iced Blind Date                 244\n",
      "Iced Caramel Macchiato          166\n",
      "Iced Chai                       163\n",
      "Iced Cortado                    172\n",
      "Iced Latte                      101\n",
      "Iced Matcha Latte               221\n",
      "Iced Mocha                        1\n",
      "Latte                           102\n",
      "Macchiato                       175\n",
      "Maple Latte                      30\n",
      "Matcha Latte                     67\n",
      "Milk Steamer                    245\n",
      "Mocha                           134\n",
      "Nitro Cold Brew                 198\n",
      "Nu Brew                         246\n",
      "Pumpkin Spice Latte              28\n",
      "Salted Caramel Cold Brew        141\n",
      "Turmeric Latte                   64\n",
      "WPZ (Limited Single Origin)     168\n",
      "Name: Calories, dtype: int64\n"
     ]
    }
   ],
   "source": [
    "coffee = pd.read_csv(\"coffee.csv\", index_col = \"Coffee\").squeeze(\"columns\")\n",
    "print(coffee)"
   ]
  },
  {
   "cell_type": "code",
   "execution_count": 22,
   "id": "14f7bd50",
   "metadata": {},
   "outputs": [
    {
     "name": "stdout",
     "output_type": "stream",
     "text": [
      "False\n"
     ]
    }
   ],
   "source": [
    "#Check whether or not flat_white is in index values in coffee csv\n",
    "Flat_White = \"Flat_White\" in coffee.index\n",
    "print(Flat_White)"
   ]
  },
  {
   "cell_type": "code",
   "execution_count": 23,
   "id": "e660dce7",
   "metadata": {},
   "outputs": [
    {
     "name": "stdout",
     "output_type": "stream",
     "text": [
      "True\n"
     ]
    }
   ],
   "source": [
    "#Check whether or not Cortado is in index values in coffee csv\n",
    "cortado = \"Cortado\" in coffee.index\n",
    "print(cortado)"
   ]
  },
  {
   "cell_type": "code",
   "execution_count": 24,
   "id": "c3e8ab58",
   "metadata": {},
   "outputs": [
    {
     "name": "stdout",
     "output_type": "stream",
     "text": [
      "False\n"
     ]
    }
   ],
   "source": [
    "#Check whether or not Blackberry Mocha is in values in  coffee csv\n",
    "blackberry_mocha = \"Blackberry Mocha\" in coffee.index\n",
    "print(blackberry_mocha)"
   ]
  },
  {
   "cell_type": "code",
   "execution_count": 25,
   "id": "01fc4b3f",
   "metadata": {},
   "outputs": [
    {
     "name": "stdout",
     "output_type": "stream",
     "text": [
      "True\n"
     ]
    }
   ],
   "source": [
    "#Check whether or not 221 in values in coffee csv\n",
    "high_calorie = 221 in coffee.values\n",
    "print(high_calorie)"
   ]
  },
  {
   "cell_type": "code",
   "execution_count": 26,
   "id": "97560840",
   "metadata": {},
   "outputs": [
    {
     "name": "stdout",
     "output_type": "stream",
     "text": [
      "False\n"
     ]
    }
   ],
   "source": [
    "#Check whether or not 400 in values in coffee csv\n",
    "super_high_calorie = 400 in coffee.values\n",
    "print(super_high_calorie)"
   ]
  },
  {
   "cell_type": "code",
   "execution_count": null,
   "id": "9ae71939",
   "metadata": {},
   "outputs": [],
   "source": []
  }
 ],
 "metadata": {
  "kernelspec": {
   "display_name": "Python 3 (ipykernel)",
   "language": "python",
   "name": "python3"
  },
  "language_info": {
   "codemirror_mode": {
    "name": "ipython",
    "version": 3
   },
   "file_extension": ".py",
   "mimetype": "text/x-python",
   "name": "python",
   "nbconvert_exporter": "python",
   "pygments_lexer": "ipython3",
   "version": "3.10.4"
  }
 },
 "nbformat": 4,
 "nbformat_minor": 5
}
