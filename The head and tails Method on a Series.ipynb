{
 "cells": [
  {
   "cell_type": "code",
   "execution_count": 1,
   "id": "e814ba81",
   "metadata": {},
   "outputs": [],
   "source": [
    "#import pandas under the alias pd\n",
    "import pandas as pd"
   ]
  },
  {
   "cell_type": "code",
   "execution_count": 8,
   "id": "4529e72f",
   "metadata": {},
   "outputs": [
    {
     "name": "stdout",
     "output_type": "stream",
     "text": [
      "0        50.12\n",
      "1        54.10\n",
      "2        54.65\n",
      "3        52.38\n",
      "4        52.95\n",
      "         ...  \n",
      "3007    772.88\n",
      "3008    771.07\n",
      "3009    773.18\n",
      "3010    771.61\n",
      "3011    782.22\n",
      "Name: Stock Price, Length: 3012, dtype: float64\n"
     ]
    }
   ],
   "source": [
    "#create data series for column data selected from pokemon/google csv's\n",
    "\n",
    "pokemon =pd.read_csv(\"pokemon.csv\", usecols = [\"Pokemon\"]).squeeze(\"columns\")\n",
    "# print(pokemon)\n",
    "google =pd.read_csv(\"google_stock_price.csv\", usecols = [\"Stock Price\"]).squeeze(\"columns\")\n",
    "# print(google)"
   ]
  },
  {
   "cell_type": "code",
   "execution_count": 18,
   "id": "0a310a3a",
   "metadata": {},
   "outputs": [
    {
     "data": {
      "text/plain": [
       "0    Bulbasaur\n",
       "Name: Pokemon, dtype: object"
      ]
     },
     "execution_count": 18,
     "metadata": {},
     "output_type": "execute_result"
    }
   ],
   "source": [
    "#return the first five rows of the pokemon csv\n",
    "pokemon.head()\n",
    "pokemon.head(5)\n",
    "pokemon.head(n = 5)\n",
    "\n",
    "pokemon.head(8)\n",
    "pokemon.head(1)"
   ]
  },
  {
   "cell_type": "code",
   "execution_count": 22,
   "id": "f04b9238",
   "metadata": {},
   "outputs": [
    {
     "data": {
      "text/plain": [
       "3011    782.22\n",
       "Name: Stock Price, dtype: float64"
      ]
     },
     "execution_count": 22,
     "metadata": {},
     "output_type": "execute_result"
    }
   ],
   "source": [
    "#return the last five rows in google csv\n",
    "google.tail(5)\n",
    "google.tail(n = 5)\n",
    "\n",
    "google.tail(9)\n",
    "google.tail(4)\n",
    "google.tail(1)"
   ]
  },
  {
   "cell_type": "code",
   "execution_count": 2,
   "id": "b9891381",
   "metadata": {},
   "outputs": [
    {
     "name": "stdout",
     "output_type": "stream",
     "text": [
      "0                        Kingda Ka\n",
      "1              Top Thrill Dragster\n",
      "2    Superman: Escape from Krypton\n",
      "3                        Red Force\n",
      "4                         Fury 325\n",
      "5                Steel Dragon 2000\n",
      "6                 Millennium Force\n",
      "7                        Leviathan\n",
      "8                  Intimidator 305\n",
      "9                            Orion\n",
      "Name: Name, dtype: object\n"
     ]
    }
   ],
   "source": [
    "#Select the name column from the roller coasters csv and turn it into a series\n",
    "coasters = pd.read_csv(\"roller_coasters.csv\", usecols= [\"Name\"]).squeeze()\n",
    "print(coasters)"
   ]
  },
  {
   "cell_type": "code",
   "execution_count": 3,
   "id": "9f958639",
   "metadata": {},
   "outputs": [
    {
     "name": "stdout",
     "output_type": "stream",
     "text": [
      "0                        Kingda Ka\n",
      "1              Top Thrill Dragster\n",
      "2    Superman: Escape from Krypton\n",
      "Name: Name, dtype: object\n"
     ]
    }
   ],
   "source": [
    "#Print the top three rollercoasters\n",
    "top_three = coasters.head(3)\n",
    "print(top_three)"
   ]
  },
  {
   "cell_type": "code",
   "execution_count": 4,
   "id": "211d7b94",
   "metadata": {},
   "outputs": [
    {
     "name": "stdout",
     "output_type": "stream",
     "text": [
      "6    Millennium Force\n",
      "7           Leviathan\n",
      "8     Intimidator 305\n",
      "9               Orion\n",
      "Name: Name, dtype: object\n"
     ]
    }
   ],
   "source": [
    "#Print the bottom four roller coasters\n",
    "bottom_four = coasters.tail(4)\n",
    "print(bottom_four)"
   ]
  },
  {
   "cell_type": "code",
   "execution_count": null,
   "id": "957ee26a",
   "metadata": {},
   "outputs": [],
   "source": []
  }
 ],
 "metadata": {
  "kernelspec": {
   "display_name": "Python 3 (ipykernel)",
   "language": "python",
   "name": "python3"
  },
  "language_info": {
   "codemirror_mode": {
    "name": "ipython",
    "version": 3
   },
   "file_extension": ".py",
   "mimetype": "text/x-python",
   "name": "python",
   "nbconvert_exporter": "python",
   "pygments_lexer": "ipython3",
   "version": "3.10.4"
  }
 },
 "nbformat": 4,
 "nbformat_minor": 5
}
