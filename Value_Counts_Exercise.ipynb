{
 "cells": [
  {
   "cell_type": "code",
   "execution_count": 5,
   "id": "ba321a0a",
   "metadata": {},
   "outputs": [],
   "source": [
    "#import pandas as alias pd\n",
    "import pandas as pd"
   ]
  },
  {
   "cell_type": "code",
   "execution_count": 8,
   "id": "4e86d968",
   "metadata": {},
   "outputs": [
    {
     "data": {
      "text/plain": [
       "0    Joey Chestnut\n",
       "1    Joey Chestnut\n",
       "2    Joey Chestnut\n",
       "3    Joey Chestnut\n",
       "4    Joey Chestnut\n",
       "Name: Winner, dtype: object"
      ]
     },
     "execution_count": 8,
     "metadata": {},
     "output_type": "execute_result"
    }
   ],
   "source": [
    "# Import the CSV file into a pandas Series object\n",
    "# The Series should have the standard pandas numeric index\n",
    "# The Series values should be the string values from the \"Winner\" column\n",
    "# Assign the Series object to a \"hot_dogs\" variable\n",
    "hot_dog = pd.read_csv(\"hot_dogs.csv\", usecols=[\"Winner\"]).squeeze(\"columns\")\n",
    "hot_dog.head()"
   ]
  },
  {
   "cell_type": "code",
   "execution_count": 17,
   "id": "f43ece7a",
   "metadata": {},
   "outputs": [
    {
     "data": {
      "text/plain": [
       "Joey Chestnut        14\n",
       "Takeru Kobayashi      6\n",
       "Mike DeVito           4\n",
       "Hirofumi Nakajima     3\n",
       "Unknown               2\n",
       "Name: Winner, dtype: int64"
      ]
     },
     "execution_count": 17,
     "metadata": {},
     "output_type": "execute_result"
    }
   ],
   "source": [
    "# I'm curious how many times each winner has won the hot dog-eating contest.\n",
    "# Create a new Series that shows each person's name (index labels) \n",
    "# and the number of times they've won (the values). What method can\n",
    "# help you generate this Series?\n",
    "# Asssign the Series to a \"names_and_wins\" variable.\n",
    "names_and_wins = pd.read_csv(\"hot_dogs.csv\", index_col =[\"Year\"]).squeeze(\"columns\").value_counts()\n",
    "names_and_wins.head()"
   ]
  },
  {
   "cell_type": "code",
   "execution_count": null,
   "id": "d2455304",
   "metadata": {},
   "outputs": [],
   "source": []
  }
 ],
 "metadata": {
  "kernelspec": {
   "display_name": "Python 3 (ipykernel)",
   "language": "python",
   "name": "python3"
  },
  "language_info": {
   "codemirror_mode": {
    "name": "ipython",
    "version": 3
   },
   "file_extension": ".py",
   "mimetype": "text/x-python",
   "name": "python",
   "nbconvert_exporter": "python",
   "pygments_lexer": "ipython3",
   "version": "3.10.4"
  }
 },
 "nbformat": 4,
 "nbformat_minor": 5
}
