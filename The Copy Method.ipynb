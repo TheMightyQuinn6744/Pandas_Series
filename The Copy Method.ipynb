{
 "cells": [
  {
   "cell_type": "code",
   "execution_count": 1,
   "id": "6637159f",
   "metadata": {},
   "outputs": [],
   "source": [
    "#import pandas under the alias pd\n",
    "import pandas as pd"
   ]
  },
  {
   "cell_type": "code",
   "execution_count": 6,
   "id": "ed122b37",
   "metadata": {},
   "outputs": [
    {
     "name": "stdout",
     "output_type": "stream",
     "text": [
      "        Pokemon     Type\n",
      "0     Bulbasaur    Grass\n",
      "1       Ivysaur    Grass\n",
      "2      Venusaur    Grass\n",
      "3    Charmander     Fire\n",
      "4    Charmeleon     Fire\n",
      "..          ...      ...\n",
      "716     Yveltal     Dark\n",
      "717     Zygarde   Dragon\n",
      "718     Diancie     Rock\n",
      "719       Hoopa  Psychic\n",
      "720   Volcanion     Fire\n",
      "\n",
      "[721 rows x 2 columns]\n"
     ]
    }
   ],
   "source": [
    "#Read the data from pokemon csv into pokemon preview data frame\n",
    "pokemon_preview = pd.read_csv(\"pokemon.csv\")\n",
    "print(pokemon_preview)"
   ]
  },
  {
   "cell_type": "code",
   "execution_count": 2,
   "id": "9f7e8870",
   "metadata": {},
   "outputs": [
    {
     "name": "stdout",
     "output_type": "stream",
     "text": [
      "Pokemon\n",
      "Bulbasaur       Grass\n",
      "Ivysaur         Grass\n",
      "Venusaur        Grass\n",
      "Charmander       Fire\n",
      "Charmeleon       Fire\n",
      "               ...   \n",
      "Yveltal          Dark\n",
      "Zygarde        Dragon\n",
      "Diancie          Rock\n",
      "Hoopa         Psychic\n",
      "Volcanion        Fire\n",
      "Name: Type, Length: 721, dtype: object\n"
     ]
    }
   ],
   "source": [
    "#Create data frame using the pokemon csv with \n",
    "pokemon =pd.read_csv(\"pokemon.csv\", index_col = [\"Pokemon\"]).squeeze(\"columns\")\n",
    "print(pokemon)"
   ]
  },
  {
   "cell_type": "code",
   "execution_count": 11,
   "id": "f5c40196",
   "metadata": {},
   "outputs": [
    {
     "name": "stdout",
     "output_type": "stream",
     "text": [
      "        Pokemon\n",
      "0     Bulbasaur\n",
      "1       Ivysaur\n",
      "2      Venusaur\n",
      "3    Charmander\n",
      "4    Charmeleon\n",
      "..          ...\n",
      "716     Yveltal\n",
      "717     Zygarde\n",
      "718     Diancie\n",
      "719       Hoopa\n",
      "720   Volcanion\n",
      "\n",
      "[721 rows x 1 columns]\n"
     ]
    }
   ],
   "source": [
    "#Create a Series from pokemon csv using the values stored in pokemon column\n",
    "pokemon_df = pd.read_csv(\"pokemon.csv\", usecols = [\"Pokemon\"])\n",
    "print(pokemon_df)"
   ]
  },
  {
   "cell_type": "code",
   "execution_count": 9,
   "id": "d0377378",
   "metadata": {},
   "outputs": [
    {
     "name": "stdout",
     "output_type": "stream",
     "text": [
      "0       Bulbasaur\n",
      "1         Ivysaur\n",
      "2        Venusaur\n",
      "3      Charmander\n",
      "4      Charmeleon\n",
      "          ...    \n",
      "716       Yveltal\n",
      "717       Zygarde\n",
      "718       Diancie\n",
      "719         Hoopa\n",
      "720     Volcanion\n",
      "Name: Pokemon, Length: 721, dtype: object\n"
     ]
    }
   ],
   "source": [
    "#Create a series from pokemon data\n",
    "#Same as syntax above, both create series\n",
    "pokemon_series = pokemon_df.squeeze(\"columns\")\n",
    "print(pokemon_series)"
   ]
  },
  {
   "cell_type": "code",
   "execution_count": 16,
   "id": "7e34195a",
   "metadata": {},
   "outputs": [
    {
     "name": "stdout",
     "output_type": "stream",
     "text": [
      "0        Whatever\n",
      "1         Ivysaur\n",
      "2        Venusaur\n",
      "3      Charmander\n",
      "4      Charmeleon\n",
      "          ...    \n",
      "716       Yveltal\n",
      "717       Zygarde\n",
      "718       Diancie\n",
      "719         Hoopa\n",
      "720     Volcanion\n",
      "Name: Pokemon, Length: 721, dtype: object\n"
     ]
    }
   ],
   "source": [
    "pokemon_series[0] = \"Whatever\"\n",
    "print(pokemon_series)"
   ]
  },
  {
   "cell_type": "code",
   "execution_count": 18,
   "id": "294ed9a1",
   "metadata": {},
   "outputs": [
    {
     "data": {
      "text/plain": [
       "0    Whatever\n",
       "Name: Pokemon, dtype: object"
      ]
     },
     "execution_count": 18,
     "metadata": {},
     "output_type": "execute_result"
    }
   ],
   "source": [
    "pokemon_series.head(1)"
   ]
  },
  {
   "cell_type": "code",
   "execution_count": 19,
   "id": "e1112b1e",
   "metadata": {},
   "outputs": [
    {
     "data": {
      "text/html": [
       "<div>\n",
       "<style scoped>\n",
       "    .dataframe tbody tr th:only-of-type {\n",
       "        vertical-align: middle;\n",
       "    }\n",
       "\n",
       "    .dataframe tbody tr th {\n",
       "        vertical-align: top;\n",
       "    }\n",
       "\n",
       "    .dataframe thead th {\n",
       "        text-align: right;\n",
       "    }\n",
       "</style>\n",
       "<table border=\"1\" class=\"dataframe\">\n",
       "  <thead>\n",
       "    <tr style=\"text-align: right;\">\n",
       "      <th></th>\n",
       "      <th>Pokemon</th>\n",
       "    </tr>\n",
       "  </thead>\n",
       "  <tbody>\n",
       "    <tr>\n",
       "      <th>0</th>\n",
       "      <td>Bulbasaur</td>\n",
       "    </tr>\n",
       "    <tr>\n",
       "      <th>1</th>\n",
       "      <td>Ivysaur</td>\n",
       "    </tr>\n",
       "    <tr>\n",
       "      <th>2</th>\n",
       "      <td>Venusaur</td>\n",
       "    </tr>\n",
       "    <tr>\n",
       "      <th>3</th>\n",
       "      <td>Charmander</td>\n",
       "    </tr>\n",
       "    <tr>\n",
       "      <th>4</th>\n",
       "      <td>Charmeleon</td>\n",
       "    </tr>\n",
       "    <tr>\n",
       "      <th>...</th>\n",
       "      <td>...</td>\n",
       "    </tr>\n",
       "    <tr>\n",
       "      <th>716</th>\n",
       "      <td>Yveltal</td>\n",
       "    </tr>\n",
       "    <tr>\n",
       "      <th>717</th>\n",
       "      <td>Zygarde</td>\n",
       "    </tr>\n",
       "    <tr>\n",
       "      <th>718</th>\n",
       "      <td>Diancie</td>\n",
       "    </tr>\n",
       "    <tr>\n",
       "      <th>719</th>\n",
       "      <td>Hoopa</td>\n",
       "    </tr>\n",
       "    <tr>\n",
       "      <th>720</th>\n",
       "      <td>Volcanion</td>\n",
       "    </tr>\n",
       "  </tbody>\n",
       "</table>\n",
       "<p>721 rows × 1 columns</p>\n",
       "</div>"
      ],
      "text/plain": [
       "        Pokemon\n",
       "0     Bulbasaur\n",
       "1       Ivysaur\n",
       "2      Venusaur\n",
       "3    Charmander\n",
       "4    Charmeleon\n",
       "..          ...\n",
       "716     Yveltal\n",
       "717     Zygarde\n",
       "718     Diancie\n",
       "719       Hoopa\n",
       "720   Volcanion\n",
       "\n",
       "[721 rows x 1 columns]"
      ]
     },
     "execution_count": 19,
     "metadata": {},
     "output_type": "execute_result"
    }
   ],
   "source": [
    "#pokemon data frame first index value remains unaffected by the change to series data \n",
    "pokemon_df"
   ]
  },
  {
   "cell_type": "code",
   "execution_count": 20,
   "id": "2be03059",
   "metadata": {},
   "outputs": [
    {
     "name": "stdout",
     "output_type": "stream",
     "text": [
      "0        Whatever\n",
      "1         Ivysaur\n",
      "2        Venusaur\n",
      "3      Charmander\n",
      "4      Charmeleon\n",
      "          ...    \n",
      "716       Yveltal\n",
      "717       Zygarde\n",
      "718       Diancie\n",
      "719         Hoopa\n",
      "720     Volcanion\n",
      "Name: Pokemon, Length: 721, dtype: object\n"
     ]
    }
   ],
   "source": [
    "print(pokemon_series)"
   ]
  },
  {
   "cell_type": "code",
   "execution_count": null,
   "id": "4047a735",
   "metadata": {},
   "outputs": [],
   "source": [
    "#Copy Series data from original dataframe\n",
    "pokemon_df = pd.read_csv(\"pokemon.csv\", usecols = [\"Pokemon\"])\n",
    "pokemon_series = pokemon_df.squeeze(\"columns\").copy()"
   ]
  },
  {
   "cell_type": "code",
   "execution_count": null,
   "id": "2fcd4ffd",
   "metadata": {},
   "outputs": [],
   "source": []
  }
 ],
 "metadata": {
  "kernelspec": {
   "display_name": "Python 3 (ipykernel)",
   "language": "python",
   "name": "python3"
  },
  "language_info": {
   "codemirror_mode": {
    "name": "ipython",
    "version": 3
   },
   "file_extension": ".py",
   "mimetype": "text/x-python",
   "name": "python",
   "nbconvert_exporter": "python",
   "pygments_lexer": "ipython3",
   "version": "3.10.4"
  }
 },
 "nbformat": 4,
 "nbformat_minor": 5
}
