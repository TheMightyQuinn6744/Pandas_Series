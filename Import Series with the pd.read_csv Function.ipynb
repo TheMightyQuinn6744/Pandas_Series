{
 "cells": [
  {
   "cell_type": "code",
   "execution_count": 2,
   "id": "e0fcc586",
   "metadata": {},
   "outputs": [],
   "source": [
    "#import pandas under the alias pd\n",
    "import pandas as pd"
   ]
  },
  {
   "cell_type": "code",
   "execution_count": 8,
   "id": "35a43174",
   "metadata": {},
   "outputs": [
    {
     "name": "stdout",
     "output_type": "stream",
     "text": [
      "0       Bulbasaur\n",
      "1         Ivysaur\n",
      "2        Venusaur\n",
      "3      Charmander\n",
      "4      Charmeleon\n",
      "          ...    \n",
      "716       Yveltal\n",
      "717       Zygarde\n",
      "718       Diancie\n",
      "719         Hoopa\n",
      "720     Volcanion\n",
      "Name: Pokemon, Length: 721, dtype: object\n"
     ]
    }
   ],
   "source": [
    "#Select the 'Pokemon' column from the pokemon.csv and convert it to a pandas series\n",
    "pokemon = pd.read_csv(\"pokemon.csv\", usecols=[\"Pokemon\"]).squeeze(\"columns\")\n",
    "print(pokemon)"
   ]
  },
  {
   "cell_type": "code",
   "execution_count": 13,
   "id": "24d1845a",
   "metadata": {},
   "outputs": [
    {
     "name": "stdout",
     "output_type": "stream",
     "text": [
      "0        50.12\n",
      "1        54.10\n",
      "2        54.65\n",
      "3        52.38\n",
      "4        52.95\n",
      "         ...  \n",
      "3007    772.88\n",
      "3008    771.07\n",
      "3009    773.18\n",
      "3010    771.61\n",
      "3011    782.22\n",
      "Name: Stock Price, Length: 3012, dtype: float64\n"
     ]
    }
   ],
   "source": [
    "#Select the 'stock price' column from the google_stock_price csv and convert it to a panda series\n",
    "\n",
    "# google_stock = pd.read_csv(\"google_stock_price.csv\")\n",
    "# print(google_stock)\n",
    "\n",
    "google = pd.read_csv(\"google_stock_price.csv\", usecols = [\"Stock Price\"]).squeeze()\n",
    "print(google)"
   ]
  },
  {
   "cell_type": "code",
   "execution_count": 15,
   "id": "df1a4cca",
   "metadata": {},
   "outputs": [
    {
     "name": "stdout",
     "output_type": "stream",
     "text": [
      "0         Burger\n",
      "1        Chalupa\n",
      "2          Sushi\n",
      "3      Ice Cream\n",
      "4        Chalupa\n",
      "         ...    \n",
      "995        Sushi\n",
      "996        Sushi\n",
      "997        Donut\n",
      "998      Chalupa\n",
      "999      Chalupa\n",
      "Name: Item, Length: 1000, dtype: object\n"
     ]
    }
   ],
   "source": [
    "#Select the column 'item' from the foods.csv and convert it to a panda series\n",
    "foods = pd.read_csv(\"foods.csv\", usecols = [\"Item\"]).squeeze()\n",
    "print(foods)"
   ]
  },
  {
   "cell_type": "code",
   "execution_count": null,
   "id": "515e8678",
   "metadata": {},
   "outputs": [],
   "source": []
  }
 ],
 "metadata": {
  "kernelspec": {
   "display_name": "Python 3 (ipykernel)",
   "language": "python",
   "name": "python3"
  },
  "language_info": {
   "codemirror_mode": {
    "name": "ipython",
    "version": 3
   },
   "file_extension": ".py",
   "mimetype": "text/x-python",
   "name": "python",
   "nbconvert_exporter": "python",
   "pygments_lexer": "ipython3",
   "version": "3.10.4"
  }
 },
 "nbformat": 4,
 "nbformat_minor": 5
}
