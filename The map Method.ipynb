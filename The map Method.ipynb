{
 "cells": [
  {
   "cell_type": "code",
   "execution_count": 16,
   "id": "1eb5b409",
   "metadata": {},
   "outputs": [],
   "source": [
    "#import pandas as pd\n",
    "import pandas as pd"
   ]
  },
  {
   "cell_type": "code",
   "execution_count": 24,
   "id": "1d9e4579",
   "metadata": {},
   "outputs": [
    {
     "data": {
      "text/plain": [
       "Pokemon\n",
       "Bulbasaur       Grass\n",
       "Ivysaur         Grass\n",
       "Venusaur        Grass\n",
       "Charmander       Fire\n",
       "Charmeleon       Fire\n",
       "               ...   \n",
       "Yveltal          Dark\n",
       "Zygarde        Dragon\n",
       "Diancie          Rock\n",
       "Hoopa         Psychic\n",
       "Volcanion        Fire\n",
       "Name: Type, Length: 721, dtype: object"
      ]
     },
     "execution_count": 24,
     "metadata": {},
     "output_type": "execute_result"
    }
   ],
   "source": [
    "#Create pokemon series from pokemon.csv data\n",
    "pokemon = pd.read_csv(\"pokemon.csv\", index_col = \"Pokemon\").squeeze(\"columns\")\n",
    "pokemon"
   ]
  },
  {
   "cell_type": "code",
   "execution_count": 26,
   "id": "5ff5ff2a",
   "metadata": {},
   "outputs": [
    {
     "data": {
      "text/plain": [
       "Grass       Classic\n",
       "Fire        Classic\n",
       "Water       Classic\n",
       "Normal       Boring\n",
       "Psychic    Exciting\n",
       "dtype: object"
      ]
     },
     "execution_count": 26,
     "metadata": {},
     "output_type": "execute_result"
    }
   ],
   "source": [
    "#Create mappings for grass, fire, water, normal\n",
    "mappings = {\n",
    "    \"Grass\": \"Classic\",\n",
    "    \"Fire\": \"Classic\",\n",
    "    \"Water\": \"Classic\",\n",
    "    \"Normal\": \"Boring\",\n",
    "    \"Psychic\": \"Exciting\"\n",
    "}\n",
    "\n",
    "#covner mappings dict into a Series\n",
    "mappings_series = pd.Series(mappings)\n",
    "mappings_series"
   ]
  },
  {
   "cell_type": "code",
   "execution_count": 27,
   "id": "bea0c00b",
   "metadata": {},
   "outputs": [
    {
     "data": {
      "text/plain": [
       "Pokemon\n",
       "Bulbasaur      Classic\n",
       "Ivysaur        Classic\n",
       "Venusaur       Classic\n",
       "Charmander     Classic\n",
       "Charmeleon     Classic\n",
       "                ...   \n",
       "Yveltal            NaN\n",
       "Zygarde            NaN\n",
       "Diancie            NaN\n",
       "Hoopa         Exciting\n",
       "Volcanion      Classic\n",
       "Name: Type, Length: 721, dtype: object"
      ]
     },
     "execution_count": 27,
     "metadata": {},
     "output_type": "execute_result"
    }
   ],
   "source": [
    "#prints the values mapped against type in mappings dict\n",
    "pokemon.map(mappings)"
   ]
  },
  {
   "cell_type": "code",
   "execution_count": 28,
   "id": "9fd120fc",
   "metadata": {},
   "outputs": [
    {
     "data": {
      "text/plain": [
       "Pokemon\n",
       "Bulbasaur      Classic\n",
       "Ivysaur        Classic\n",
       "Venusaur       Classic\n",
       "Charmander     Classic\n",
       "Charmeleon     Classic\n",
       "                ...   \n",
       "Yveltal            NaN\n",
       "Zygarde            NaN\n",
       "Diancie            NaN\n",
       "Hoopa         Exciting\n",
       "Volcanion      Classic\n",
       "Name: Type, Length: 721, dtype: object"
      ]
     },
     "execution_count": 28,
     "metadata": {},
     "output_type": "execute_result"
    }
   ],
   "source": [
    "#prints the values mapped in mappings_series against values in Pandas Series and produces result\n",
    "pokemon.map(mappings_series)"
   ]
  },
  {
   "cell_type": "code",
   "execution_count": null,
   "id": "6a52149b",
   "metadata": {},
   "outputs": [],
   "source": []
  }
 ],
 "metadata": {
  "kernelspec": {
   "display_name": "Python 3 (ipykernel)",
   "language": "python",
   "name": "python3"
  },
  "language_info": {
   "codemirror_mode": {
    "name": "ipython",
    "version": 3
   },
   "file_extension": ".py",
   "mimetype": "text/x-python",
   "name": "python",
   "nbconvert_exporter": "python",
   "pygments_lexer": "ipython3",
   "version": "3.10.4"
  }
 },
 "nbformat": 4,
 "nbformat_minor": 5
}
