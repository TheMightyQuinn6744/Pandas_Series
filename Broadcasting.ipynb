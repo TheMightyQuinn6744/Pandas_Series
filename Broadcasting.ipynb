{
 "cells": [
  {
   "cell_type": "code",
   "execution_count": 1,
   "id": "736b446c",
   "metadata": {},
   "outputs": [],
   "source": [
    "#import pandas under the alias pd\n",
    "import pandas as pd"
   ]
  },
  {
   "cell_type": "code",
   "execution_count": 3,
   "id": "8a712a80",
   "metadata": {},
   "outputs": [
    {
     "name": "stdout",
     "output_type": "stream",
     "text": [
      "0    50.12\n",
      "1    54.10\n",
      "2    54.65\n",
      "3    52.38\n",
      "4    52.95\n",
      "Name: Stock Price, dtype: float64\n"
     ]
    }
   ],
   "source": [
    "#save the google csv data as a series into the google variable\n",
    "google = pd.read_csv(\"google_stock_price.csv\", usecols = [\"Stock Price\"]).squeeze(\"columns\")\n",
    "print(google.head())"
   ]
  },
  {
   "cell_type": "code",
   "execution_count": 6,
   "id": "6977ebfb",
   "metadata": {},
   "outputs": [
    {
     "data": {
      "text/plain": [
       "0        40.12\n",
       "1        44.10\n",
       "2        44.65\n",
       "3        42.38\n",
       "4        42.95\n",
       "         ...  \n",
       "3007    762.88\n",
       "3008    761.07\n",
       "3009    763.18\n",
       "3010    761.61\n",
       "3011    772.22\n",
       "Name: Stock Price, Length: 3012, dtype: float64"
      ]
     },
     "execution_count": 6,
     "metadata": {},
     "output_type": "execute_result"
    }
   ],
   "source": [
    "#broacasting is applying a consistent mathematical operation to every value in a series\n",
    "google + 10\n",
    "google - 30 \n",
    "google * 30\n",
    "\n",
    "google.add(10)\n",
    "google.sub(10)"
   ]
  },
  {
   "cell_type": "code",
   "execution_count": null,
   "id": "65a679ae",
   "metadata": {},
   "outputs": [],
   "source": []
  }
 ],
 "metadata": {
  "kernelspec": {
   "display_name": "Python 3 (ipykernel)",
   "language": "python",
   "name": "python3"
  },
  "language_info": {
   "codemirror_mode": {
    "name": "ipython",
    "version": 3
   },
   "file_extension": ".py",
   "mimetype": "text/x-python",
   "name": "python",
   "nbconvert_exporter": "python",
   "pygments_lexer": "ipython3",
   "version": "3.10.4"
  }
 },
 "nbformat": 4,
 "nbformat_minor": 5
}
