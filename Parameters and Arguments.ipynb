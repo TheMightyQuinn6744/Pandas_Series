{
 "cells": [
  {
   "cell_type": "code",
   "execution_count": 3,
   "id": "6b68fec7",
   "metadata": {},
   "outputs": [],
   "source": [
    "import pandas as pd"
   ]
  },
  {
   "cell_type": "code",
   "execution_count": 1,
   "id": "ba5b8ea6",
   "metadata": {},
   "outputs": [],
   "source": [
    "#Parameter - The name we give to an expected input\n",
    "#Argument - The concrete value that we provide to a parameter\n",
    "\n",
    "#Difficulty- Easy, Medium, Hard\n",
    "#Volume - 1 through 10\n",
    "#Subtitles - True, False"
   ]
  },
  {
   "cell_type": "code",
   "execution_count": 23,
   "id": "66aa3616",
   "metadata": {},
   "outputs": [
    {
     "data": {
      "text/plain": [
       "Monday           Apple\n",
       "Tuesday         Orange\n",
       "Wednesday         Plum\n",
       "Thursday         Grape\n",
       "Friday       Blueberry\n",
       "dtype: object"
      ]
     },
     "execution_count": 23,
     "metadata": {},
     "output_type": "execute_result"
    }
   ],
   "source": [
    "fruits = [\"Apple\",\"Orange\",\"Plum\",\"Grape\",\"Blueberry\"]\n",
    "weekdays = [\"Monday\",\"Tuesday\",\"Wednesday\",\"Thursday\",\"Friday\"]\n",
    "\n",
    "# pd.Series(fruits, weekdays)\n",
    "# pd.Series(weekdays, fruits)\n",
    "\n",
    "pd.Series(data = fruits, index = weekdays)"
   ]
  },
  {
   "cell_type": "code",
   "execution_count": 18,
   "id": "d3e1c816",
   "metadata": {},
   "outputs": [
    {
     "data": {
      "text/plain": [
       "Quinn         Rodney\n",
       "James         Rodney\n",
       "Aaron          Jones\n",
       "Patrick    Robertson\n",
       "dtype: object"
      ]
     },
     "execution_count": 18,
     "metadata": {},
     "output_type": "execute_result"
    }
   ],
   "source": [
    "first_name = [\"Quinn\", \"James\",\"Aaron\", \"Patrick\"]\n",
    "last_name = [\"Rodney\", \"Rodney\", \"Jones\", \"Robertson\"]\n",
    "\n",
    "pd.Series(last_name, first_name)"
   ]
  },
  {
   "cell_type": "code",
   "execution_count": 35,
   "id": "7cccd2bd",
   "metadata": {},
   "outputs": [
    {
     "data": {
      "text/plain": [
       "12345     300\n",
       "54321     500\n",
       "23456    1200\n",
       "23653    5400\n",
       "dtype: object"
      ]
     },
     "execution_count": 35,
     "metadata": {},
     "output_type": "execute_result"
    }
   ],
   "source": [
    "account_number = [\"12345\", \"54321\", \"23456\", \"23653\"]\n",
    "account_balance = [\"300\", \"500\", \"1200\", \"5400\"]\n",
    "\n",
    "pd.Series(account_balance, account_number)"
   ]
  },
  {
   "cell_type": "code",
   "execution_count": 30,
   "id": "32816ce9",
   "metadata": {},
   "outputs": [
    {
     "data": {
      "text/plain": [
       "Monday       $12345\n",
       "Tuesday      $56789\n",
       "Wednesday    $23134\n",
       "Thursday     $31234\n",
       "dtype: object"
      ]
     },
     "execution_count": 30,
     "metadata": {},
     "output_type": "execute_result"
    }
   ],
   "source": [
    "sales_amount = [\"$\" + str(12345), \"$\" + str(56789), \"$\" + str(23134), \"$\" + str(31234)]\n",
    "weekday_sales = [\"Monday\", \"Tuesday\", \"Wednesday\", \"Thursday\"]\n",
    "\n",
    "pd.Series(data = sales_amount, index = weekday_sales)"
   ]
  },
  {
   "cell_type": "code",
   "execution_count": 36,
   "id": "13447bb6",
   "metadata": {},
   "outputs": [],
   "source": [
    "foods = [\"French Fries\", \"Chicken Nuggets\", \"Celery\", \"Carrots\"]\n",
    "dipping_sauces = [\"BBQ\", \"Honey Mustard\", \"Ranch\", \"Sriracha\"]"
   ]
  },
  {
   "cell_type": "code",
   "execution_count": 37,
   "id": "18f134c6",
   "metadata": {},
   "outputs": [
    {
     "name": "stdout",
     "output_type": "stream",
     "text": [
      "BBQ                 French Fries\n",
      "Honey Mustard    Chicken Nuggets\n",
      "Ranch                     Celery\n",
      "Sriracha                 Carrots\n",
      "dtype: object\n"
     ]
    }
   ],
   "source": [
    "s1 = pd.Series(data = foods, index = dipping_sauces)\n",
    "print(s1)"
   ]
  },
  {
   "cell_type": "code",
   "execution_count": 41,
   "id": "0f3c9851",
   "metadata": {},
   "outputs": [
    {
     "name": "stdout",
     "output_type": "stream",
     "text": [
      "French Fries                 BBQ\n",
      "Chicken Nuggets    Honey Mustard\n",
      "Celery                     Ranch\n",
      "Carrots                 Sriracha\n",
      "dtype: object\n"
     ]
    }
   ],
   "source": [
    "s2 = pd.Series(data = dipping_sauces, index = foods)\n",
    "print(s2)"
   ]
  },
  {
   "cell_type": "code",
   "execution_count": null,
   "id": "377f621d",
   "metadata": {},
   "outputs": [],
   "source": []
  }
 ],
 "metadata": {
  "kernelspec": {
   "display_name": "Python 3 (ipykernel)",
   "language": "python",
   "name": "python3"
  },
  "language_info": {
   "codemirror_mode": {
    "name": "ipython",
    "version": 3
   },
   "file_extension": ".py",
   "mimetype": "text/x-python",
   "name": "python",
   "nbconvert_exporter": "python",
   "pygments_lexer": "ipython3",
   "version": "3.10.4"
  }
 },
 "nbformat": 4,
 "nbformat_minor": 5
}
