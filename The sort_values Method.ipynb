{
 "cells": [
  {
   "cell_type": "code",
   "execution_count": 1,
   "id": "adab8828",
   "metadata": {},
   "outputs": [],
   "source": [
    "#import pandas under alias pd\n",
    "import pandas as pd"
   ]
  },
  {
   "cell_type": "code",
   "execution_count": 2,
   "id": "2248fb17",
   "metadata": {},
   "outputs": [],
   "source": [
    "#create data series for column data selected from pokemon/google csv's\n",
    "\n",
    "pokemon =pd.read_csv(\"pokemon.csv\", usecols = [\"Pokemon\"]).squeeze(\"columns\")\n",
    "# print(pokemon)\n",
    "google =pd.read_csv(\"google_stock_price.csv\", usecols = [\"Stock Price\"]).squeeze(\"columns\")\n",
    "# print(google)"
   ]
  },
  {
   "cell_type": "code",
   "execution_count": 4,
   "id": "1061af7c",
   "metadata": {},
   "outputs": [
    {
     "data": {
      "text/plain": [
       "459    Abomasnow\n",
       "62          Abra\n",
       "358        Absol\n",
       "616     Accelgor\n",
       "680    Aegislash\n",
       "Name: Pokemon, dtype: object"
      ]
     },
     "execution_count": 4,
     "metadata": {},
     "output_type": "execute_result"
    }
   ],
   "source": [
    "#Sort the values in ascending to descending order\n",
    "pokemon.sort_values().head()"
   ]
  },
  {
   "cell_type": "code",
   "execution_count": 7,
   "id": "95efe88d",
   "metadata": {},
   "outputs": [
    {
     "data": {
      "text/plain": [
       "717     Zygarde\n",
       "633    Zweilous\n",
       "40        Zubat\n",
       "569       Zorua\n",
       "570     Zoroark\n",
       "Name: Pokemon, dtype: object"
      ]
     },
     "execution_count": 7,
     "metadata": {},
     "output_type": "execute_result"
    }
   ],
   "source": [
    "#sorting by ascending with a value of true A-Z, sorting with a value of false Z-A by descending values\n",
    "pokemon.sort_values(ascending = True)\n",
    "pokemon.sort_values(ascending = False).head()"
   ]
  },
  {
   "cell_type": "code",
   "execution_count": 9,
   "id": "ead8909b",
   "metadata": {},
   "outputs": [
    {
     "name": "stdout",
     "output_type": "stream",
     "text": [
      "0    Spicy Sweet Chili\n",
      "1           Cool Ranch\n",
      "2         Nacho Cheese\n",
      "3          Salsa Verde\n",
      "dtype: object\n"
     ]
    }
   ],
   "source": [
    "#Create a list with the name of doritos flavors and create a data series\n",
    "flavors = [\"Spicy Sweet Chili\", \"Cool Ranch\", \"Nacho Cheese\", \"Salsa Verde\"]\n",
    "\n",
    "doritos = pd.Series(flavors)\n",
    "print(doritos)"
   ]
  },
  {
   "cell_type": "code",
   "execution_count": 12,
   "id": "e5843cd9",
   "metadata": {},
   "outputs": [
    {
     "name": "stdout",
     "output_type": "stream",
     "text": [
      "0    Spicy Sweet Chili\n",
      "3          Salsa Verde\n",
      "2         Nacho Cheese\n",
      "1           Cool Ranch\n",
      "dtype: object\n"
     ]
    }
   ],
   "source": [
    "sorted_doritos = doritos.sort_values(ascending =False)\n",
    "print(sorted_doritos)"
   ]
  },
  {
   "cell_type": "code",
   "execution_count": null,
   "id": "c9377cfa",
   "metadata": {},
   "outputs": [],
   "source": []
  }
 ],
 "metadata": {
  "kernelspec": {
   "display_name": "Python 3 (ipykernel)",
   "language": "python",
   "name": "python3"
  },
  "language_info": {
   "codemirror_mode": {
    "name": "ipython",
    "version": 3
   },
   "file_extension": ".py",
   "mimetype": "text/x-python",
   "name": "python",
   "nbconvert_exporter": "python",
   "pygments_lexer": "ipython3",
   "version": "3.10.4"
  }
 },
 "nbformat": 4,
 "nbformat_minor": 5
}
