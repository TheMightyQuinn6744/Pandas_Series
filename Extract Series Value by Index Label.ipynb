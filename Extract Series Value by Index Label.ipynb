{
 "cells": [
  {
   "cell_type": "code",
   "execution_count": 2,
   "id": "87c0614b",
   "metadata": {},
   "outputs": [],
   "source": [
    "#import pandas as alias pd\n",
    "import pandas as pd"
   ]
  },
  {
   "cell_type": "code",
   "execution_count": 3,
   "id": "f7e9c8f8",
   "metadata": {},
   "outputs": [
    {
     "name": "stdout",
     "output_type": "stream",
     "text": [
      "Pokemon\n",
      "Bulbasaur     Grass\n",
      "Ivysaur       Grass\n",
      "Venusaur      Grass\n",
      "Charmander     Fire\n",
      "Charmeleon     Fire\n",
      "Name: Type, dtype: object\n"
     ]
    }
   ],
   "source": [
    "#create data series for column data selected from pokemon/google csv's\n",
    "\n",
    "pokemon =pd.read_csv(\"pokemon.csv\", index_col = [\"Pokemon\"]).squeeze(\"columns\")\n",
    "print(pokemon.head())"
   ]
  },
  {
   "cell_type": "code",
   "execution_count": 3,
   "id": "7de9f461",
   "metadata": {},
   "outputs": [
    {
     "data": {
      "text/plain": [
       "'Grass'"
      ]
     },
     "execution_count": 3,
     "metadata": {},
     "output_type": "execute_result"
    }
   ],
   "source": [
    "#Select the value of the first indexed value in pokemon\n",
    "pokemon[0]"
   ]
  },
  {
   "cell_type": "code",
   "execution_count": 6,
   "id": "f95fd48d",
   "metadata": {},
   "outputs": [
    {
     "data": {
      "text/plain": [
       "'Grass'"
      ]
     },
     "execution_count": 6,
     "metadata": {},
     "output_type": "execute_result"
    }
   ],
   "source": [
    "#Select the values of the indexes named Bulbasaur & Venusaur\n",
    "pokemon[\"Bulbasaur\"]\n",
    "pokemon[\"Venusaur\"]"
   ]
  },
  {
   "cell_type": "code",
   "execution_count": 13,
   "id": "a4ab77f1",
   "metadata": {},
   "outputs": [
    {
     "data": {
      "text/plain": [
       "Pokemon\n",
       "Bulbasaur    Grass\n",
       "Venusaur     Grass\n",
       "Name: Type, dtype: object"
      ]
     },
     "execution_count": 13,
     "metadata": {},
     "output_type": "execute_result"
    }
   ],
   "source": [
    "#Select multiple values based on index label\n",
    "pokemon[[\"Bulbasaur\",\"Venusaur\"]]"
   ]
  },
  {
   "cell_type": "code",
   "execution_count": null,
   "id": "a1b624af",
   "metadata": {},
   "outputs": [],
   "source": []
  }
 ],
 "metadata": {
  "kernelspec": {
   "display_name": "Python 3 (ipykernel)",
   "language": "python",
   "name": "python3"
  },
  "language_info": {
   "codemirror_mode": {
    "name": "ipython",
    "version": 3
   },
   "file_extension": ".py",
   "mimetype": "text/x-python",
   "name": "python",
   "nbconvert_exporter": "python",
   "pygments_lexer": "ipython3",
   "version": "3.10.4"
  }
 },
 "nbformat": 4,
 "nbformat_minor": 5
}
