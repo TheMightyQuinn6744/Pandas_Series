{
 "cells": [
  {
   "cell_type": "code",
   "execution_count": 1,
   "id": "c200e555",
   "metadata": {},
   "outputs": [],
   "source": [
    "#import pandas as alias pd\n",
    "import pandas as pd"
   ]
  },
  {
   "cell_type": "code",
   "execution_count": 2,
   "id": "28846796",
   "metadata": {},
   "outputs": [
    {
     "name": "stdout",
     "output_type": "stream",
     "text": [
      "0    50.12\n",
      "1    54.10\n",
      "2    54.65\n",
      "3    52.38\n",
      "4    52.95\n",
      "Name: Stock Price, dtype: float64\n"
     ]
    }
   ],
   "source": [
    "#Import data from google stock price csv into panda series\n",
    "google = pd.read_csv(\"google_stock_price.csv\", usecols = [\"Stock Price\"]).squeeze(\"columns\")\n",
    "print(google.head())"
   ]
  },
  {
   "cell_type": "code",
   "execution_count": 9,
   "id": "d216c195",
   "metadata": {},
   "outputs": [
    {
     "data": {
      "text/plain": [
       "count    3012.000000\n",
       "mean      334.310093\n",
       "std       173.187205\n",
       "min        49.950000\n",
       "25%       218.045000\n",
       "50%       283.315000\n",
       "75%       443.000000\n",
       "max       782.220000\n",
       "Name: Stock Price, dtype: float64"
      ]
     },
     "execution_count": 9,
     "metadata": {},
     "output_type": "execute_result"
    }
   ],
   "source": [
    "#math methods can be performed on series objects once series is saved into python variable\n",
    "google.count()\n",
    "google.sum()\n",
    "google.mean()\n",
    "google.product()\n",
    "google.std()\n",
    "google.min()\n",
    "google.mode()\n",
    "google.describe()"
   ]
  },
  {
   "cell_type": "code",
   "execution_count": null,
   "id": "e76cabf7",
   "metadata": {},
   "outputs": [],
   "source": []
  }
 ],
 "metadata": {
  "kernelspec": {
   "display_name": "Python 3 (ipykernel)",
   "language": "python",
   "name": "python3"
  },
  "language_info": {
   "codemirror_mode": {
    "name": "ipython",
    "version": 3
   },
   "file_extension": ".py",
   "mimetype": "text/x-python",
   "name": "python",
   "nbconvert_exporter": "python",
   "pygments_lexer": "ipython3",
   "version": "3.10.4"
  }
 },
 "nbformat": 4,
 "nbformat_minor": 5
}
