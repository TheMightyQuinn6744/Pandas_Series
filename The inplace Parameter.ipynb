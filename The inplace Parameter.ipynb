{
 "cells": [
  {
   "cell_type": "code",
   "execution_count": 1,
   "id": "c4707b8b",
   "metadata": {},
   "outputs": [],
   "source": [
    "#import pandas as alias pd\n",
    "import pandas as pd"
   ]
  },
  {
   "cell_type": "code",
   "execution_count": 9,
   "id": "30fef38c",
   "metadata": {},
   "outputs": [
    {
     "name": "stdout",
     "output_type": "stream",
     "text": [
      "0        50.12\n",
      "1        54.10\n",
      "2        54.65\n",
      "3        52.38\n",
      "4        52.95\n",
      "         ...  \n",
      "3007    772.88\n",
      "3008    771.07\n",
      "3009    773.18\n",
      "3010    771.61\n",
      "3011    782.22\n",
      "Name: Stock Price, Length: 3012, dtype: float64\n"
     ]
    }
   ],
   "source": [
    "#import stock price csv into data series\n",
    "#copy distinct series data\n",
    "google = pd.read_csv(\"google_stock_price.csv\", usecols = [\"Stock Price\"]).squeeze(\"columns\").copy()\n",
    "print(google)"
   ]
  },
  {
   "cell_type": "code",
   "execution_count": 11,
   "id": "a71777f9",
   "metadata": {},
   "outputs": [
    {
     "name": "stdout",
     "output_type": "stream",
     "text": [
      "11    49.95\n",
      "9     50.07\n",
      "0     50.12\n",
      "10    50.70\n",
      "12    50.74\n",
      "Name: Stock Price, dtype: float64\n"
     ]
    }
   ],
   "source": [
    "#Sort the values in the google stock price series by ascending order\n",
    "google = google.sort_values()\n",
    "print(google.head())"
   ]
  },
  {
   "cell_type": "code",
   "execution_count": 13,
   "id": "f0a6de7d",
   "metadata": {},
   "outputs": [],
   "source": [
    "#inplace parameter overwrites the original series data if set to True boolean\n",
    "google.sort_values(inplace=True)"
   ]
  },
  {
   "cell_type": "code",
   "execution_count": 14,
   "id": "308ad6da",
   "metadata": {},
   "outputs": [
    {
     "name": "stdout",
     "output_type": "stream",
     "text": [
      "11       49.95\n",
      "9        50.07\n",
      "0        50.12\n",
      "10       50.70\n",
      "12       50.74\n",
      "         ...  \n",
      "3010    771.61\n",
      "3007    772.88\n",
      "3009    773.18\n",
      "2859    776.60\n",
      "3011    782.22\n",
      "Name: Stock Price, Length: 3012, dtype: float64\n"
     ]
    }
   ],
   "source": [
    "print(google)"
   ]
  },
  {
   "cell_type": "code",
   "execution_count": null,
   "id": "def9d66a",
   "metadata": {},
   "outputs": [],
   "source": []
  }
 ],
 "metadata": {
  "kernelspec": {
   "display_name": "Python 3 (ipykernel)",
   "language": "python",
   "name": "python3"
  },
  "language_info": {
   "codemirror_mode": {
    "name": "ipython",
    "version": 3
   },
   "file_extension": ".py",
   "mimetype": "text/x-python",
   "name": "python",
   "nbconvert_exporter": "python",
   "pygments_lexer": "ipython3",
   "version": "3.10.4"
  }
 },
 "nbformat": 4,
 "nbformat_minor": 5
}
