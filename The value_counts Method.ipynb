{
 "cells": [
  {
   "cell_type": "code",
   "execution_count": 2,
   "id": "8f3e596c",
   "metadata": {},
   "outputs": [],
   "source": [
    "#import pandas under the alias pd\n",
    "import pandas as pd"
   ]
  },
  {
   "cell_type": "code",
   "execution_count": 3,
   "id": "cf746826",
   "metadata": {},
   "outputs": [
    {
     "name": "stdout",
     "output_type": "stream",
     "text": [
      "Pokemon\n",
      "Bulbasaur     Grass\n",
      "Ivysaur       Grass\n",
      "Venusaur      Grass\n",
      "Charmander     Fire\n",
      "Charmeleon     Fire\n",
      "Name: Type, dtype: object\n"
     ]
    }
   ],
   "source": [
    "#Create a panda series from the pokemon csv indexed by the values in pokemon column\n",
    "pokemon = pd.read_csv(\"pokemon.csv\", index_col=\"Pokemon\").squeeze(\"columns\")\n",
    "print(pokemon.head())"
   ]
  },
  {
   "cell_type": "code",
   "execution_count": 14,
   "id": "44efefc7",
   "metadata": {},
   "outputs": [
    {
     "data": {
      "text/plain": [
       "Water       14.563107\n",
       "Normal      12.898752\n",
       "Grass        9.153953\n",
       "Bug          8.737864\n",
       "Fire         6.518724\n",
       "Psychic      6.518724\n",
       "Rock         5.686546\n",
       "Electric     4.993065\n",
       "Ground       4.160888\n",
       "Poison       3.883495\n",
       "Dark         3.883495\n",
       "Fighting     3.467406\n",
       "Dragon       3.328710\n",
       "Ghost        3.190014\n",
       "Ice          3.190014\n",
       "Steel        3.051318\n",
       "Fairy        2.357836\n",
       "Flying       0.416089\n",
       "Name: Type, dtype: float64"
      ]
     },
     "execution_count": 14,
     "metadata": {},
     "output_type": "execute_result"
    }
   ],
   "source": [
    "#count the number of values based on indexed value\n",
    "pokemon.value_counts()\n",
    "pokemon.value_counts(ascending = True).head()\n",
    "\n",
    "#the value counts will appear by time as they appear in the series not sorted by any value\n",
    "pokemon.value_counts(sort=False)\n",
    "\n",
    "#the value counts will appear as percentages\n",
    "pokemon.value_counts(normalize=True) * 100\n",
    "\n",
    "##case sensitivy matters, so consider these  when considering value counts\n",
    "##white space is considered as unique value against values without white space"
   ]
  },
  {
   "cell_type": "code",
   "execution_count": null,
   "id": "dac6020b",
   "metadata": {},
   "outputs": [],
   "source": []
  }
 ],
 "metadata": {
  "kernelspec": {
   "display_name": "Python 3 (ipykernel)",
   "language": "python",
   "name": "python3"
  },
  "language_info": {
   "codemirror_mode": {
    "name": "ipython",
    "version": 3
   },
   "file_extension": ".py",
   "mimetype": "text/x-python",
   "name": "python",
   "nbconvert_exporter": "python",
   "pygments_lexer": "ipython3",
   "version": "3.10.4"
  }
 },
 "nbformat": 4,
 "nbformat_minor": 5
}
